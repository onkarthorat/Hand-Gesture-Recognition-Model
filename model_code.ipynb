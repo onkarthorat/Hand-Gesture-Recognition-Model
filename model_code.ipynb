{
  "nbformat": 4,
  "nbformat_minor": 0,
  "metadata": {
    "accelerator": "GPU",
    "colab": {
      "name": "TF_base_code-no.ipynb",
      "provenance": [],
      "collapsed_sections": []
    },
    "kernelspec": {
      "display_name": "Python 3",
      "name": "python3"
    },
    "language_info": {
      "name": "python"
    }
  },
  "cells": [
    {
      "cell_type": "code",
      "metadata": {
        "id": "D9x0HhyHT_Kb"
      },
      "source": [
        "# ! pip uninstall tensorflow"
      ],
      "execution_count": 1,
      "outputs": []
    },
    {
      "cell_type": "code",
      "metadata": {
        "id": "tCgvtIefUrPH"
      },
      "source": [
        "# pip install tensorflow==2.3"
      ],
      "execution_count": 2,
      "outputs": []
    },
    {
      "cell_type": "code",
      "metadata": {
        "colab": {
          "base_uri": "https://localhost:8080/",
          "height": 37
        },
        "id": "iUBf7kpFVyoq",
        "outputId": "db8388a1-744f-4d92-fa96-b41191dac800"
      },
      "source": [
        "import tensorflow\n",
        "tensorflow.__version__"
      ],
      "execution_count": 3,
      "outputs": [
        {
          "output_type": "execute_result",
          "data": {
            "application/vnd.google.colaboratory.intrinsic+json": {
              "type": "string"
            },
            "text/plain": [
              "'2.3.0'"
            ]
          },
          "metadata": {},
          "execution_count": 3
        }
      ]
    },
    {
      "cell_type": "code",
      "metadata": {
        "colab": {
          "base_uri": "https://localhost:8080/"
        },
        "id": "Bu6RiO9E9DB5",
        "outputId": "20c1fa88-03e6-43e3-9e52-b980a6b4b6b0"
      },
      "source": [
        "from google.colab import drive\n",
        "drive.mount('/content/drive')"
      ],
      "execution_count": 4,
      "outputs": [
        {
          "output_type": "stream",
          "name": "stdout",
          "text": [
            "Mounted at /content/drive\n"
          ]
        }
      ]
    },
    {
      "cell_type": "code",
      "metadata": {
        "id": "TcZYbPy29EPo"
      },
      "source": [
        "import numpy as np\n",
        "from tensorflow.keras.callbacks import ModelCheckpoint\n",
        "from sklearn.model_selection import train_test_split\n",
        "import tensorflow as tf\n",
        "from tensorflow.keras.utils import to_categorical\n",
        "\n",
        "# from keras import backend as K"
      ],
      "execution_count": 5,
      "outputs": []
    },
    {
      "cell_type": "code",
      "metadata": {
        "colab": {
          "base_uri": "https://localhost:8080/"
        },
        "id": "Hkj_Zi3z9QZW",
        "outputId": "a90a0f32-03d4-460f-c059-9737b8be6c34"
      },
      "source": [
        "X_train = np.load('/content/drive/MyDrive/hand_gesture/X.npy') \n",
        "Y_train = np.load('/content/drive/MyDrive/hand_gesture/Y.npy')\n",
        "Y_train = to_categorical(Y_train, 5)\n",
        "print(X_train.shape)\n",
        "print(Y_train.shape)"
      ],
      "execution_count": 6,
      "outputs": [
        {
          "output_type": "stream",
          "name": "stdout",
          "text": [
            "(2499, 224, 224, 3)\n",
            "(2499, 5)\n"
          ]
        }
      ]
    },
    {
      "cell_type": "code",
      "metadata": {
        "id": "7a6EXF9y9SBB"
      },
      "source": [
        "X_train, X_test, Y_train, Y_test = train_test_split(X_train, Y_train, test_size=0.15, random_state=69,stratify = Y_train)"
      ],
      "execution_count": 7,
      "outputs": []
    },
    {
      "cell_type": "code",
      "metadata": {
        "colab": {
          "base_uri": "https://localhost:8080/"
        },
        "id": "JiZCbX39TjsG",
        "outputId": "e32d616b-5e3e-4ef7-d962-0b9731b77315"
      },
      "source": [
        "print(X_train.shape)\n",
        "print(Y_train.shape)"
      ],
      "execution_count": 8,
      "outputs": [
        {
          "output_type": "stream",
          "name": "stdout",
          "text": [
            "(2124, 224, 224, 3)\n",
            "(2124, 5)\n"
          ]
        }
      ]
    },
    {
      "cell_type": "code",
      "metadata": {
        "id": "gQa2aBia9YcW"
      },
      "source": [
        "from tensorflow.keras.layers import Dense, Conv2D, BatchNormalization, Flatten, Dropout, LeakyReLU, Softmax, MaxPool2D\n",
        "from tensorflow.keras.models import Sequential\n",
        "from tensorflow.keras.optimizers import Adam\n",
        "from tensorflow.keras.losses import CategoricalCrossentropy\n",
        "\n",
        "model = Sequential()\n",
        "\n",
        "model.add(Conv2D(32 , (3,3) , strides = 1 , padding = 'same' , activation = 'relu' , input_shape = (224, 224, 3)))\n",
        "model.add(BatchNormalization())\n",
        "model.add(MaxPool2D((2,2) , strides = 2 , padding = 'same'))\n",
        "\n",
        "model.add(Conv2D(64 , (3,3) , strides = 1 , padding = 'same' , activation = 'relu'))\n",
        "model.add(Dropout(0.1))\n",
        "model.add(BatchNormalization())\n",
        "model.add(MaxPool2D((2,2) , strides = 2 , padding = 'same'))\n",
        "\n",
        "model.add(Conv2D(128 , (5,5) , strides = 1 , padding = 'same' , activation = 'relu'))\n",
        "model.add(Dropout(0.15))\n",
        "model.add(BatchNormalization())\n",
        "model.add(MaxPool2D((2,2) , strides = 2 , padding = 'same'))\n",
        "\n",
        "model.add(Conv2D(128 , (3,3) , strides = 1 , padding = 'same' , activation = 'relu'))\n",
        "model.add(Dropout(0.2))\n",
        "model.add(BatchNormalization())\n",
        "model.add(MaxPool2D((2,2) , strides = 2 , padding = 'same'))\n",
        "\n",
        "model.add(Conv2D(256 , (3,3) , strides = 1 , padding = 'same' , activation = 'relu'))\n",
        "model.add(Dropout(0.2))\n",
        "model.add(BatchNormalization())\n",
        "model.add(MaxPool2D((2,2) , strides = 2 , padding = 'same'))\n",
        "\n",
        "model.add(Flatten())\n",
        "model.add(Dense(units = 128 , activation = 'relu'))\n",
        "model.add(Dropout(0.2))\n",
        "model.add(Dense(units = 512 , activation = 'relu'))\n",
        "# model.add(Dropout(0.1))\n",
        "model.add(Dense(units = 5 , activation = 'softmax'))\n"
      ],
      "execution_count": 10,
      "outputs": []
    },
    {
      "cell_type": "code",
      "metadata": {
        "id": "eVwtbMWqBweo",
        "colab": {
          "base_uri": "https://localhost:8080/"
        },
        "outputId": "1ccce17d-bb29-472f-a27e-5461ba838463"
      },
      "source": [
        "# from keras.optimizers import Adam\n",
        "model_save = ModelCheckpoint('./temp.h5',\n",
        "                             save_best_only = True,\n",
        "                             save_weights_only = False,\n",
        "                             monitor = 'val_accuracy', \n",
        "                             mode = 'max', verbose = 1)\n",
        "\n",
        "# initial_learning_rate = 1e-3\n",
        "# lr_schedule = tf.keras.optimizers.schedules.ExponentialDecay(\n",
        "#     initial_learning_rate,\n",
        "#     decay_steps=755,\n",
        "#     decay_rate=0.9,\n",
        "#     staircase=True)\n",
        "\n",
        "model.compile(optimizer = \"adam\", loss = 'categorical_crossentropy' , metrics = ['accuracy'])\n",
        "model.summary()"
      ],
      "execution_count": 11,
      "outputs": [
        {
          "output_type": "stream",
          "name": "stdout",
          "text": [
            "Model: \"sequential\"\n",
            "_________________________________________________________________\n",
            "Layer (type)                 Output Shape              Param #   \n",
            "=================================================================\n",
            "conv2d (Conv2D)              (None, 224, 224, 32)      896       \n",
            "_________________________________________________________________\n",
            "batch_normalization (BatchNo (None, 224, 224, 32)      128       \n",
            "_________________________________________________________________\n",
            "max_pooling2d (MaxPooling2D) (None, 112, 112, 32)      0         \n",
            "_________________________________________________________________\n",
            "conv2d_1 (Conv2D)            (None, 112, 112, 64)      18496     \n",
            "_________________________________________________________________\n",
            "dropout (Dropout)            (None, 112, 112, 64)      0         \n",
            "_________________________________________________________________\n",
            "batch_normalization_1 (Batch (None, 112, 112, 64)      256       \n",
            "_________________________________________________________________\n",
            "max_pooling2d_1 (MaxPooling2 (None, 56, 56, 64)        0         \n",
            "_________________________________________________________________\n",
            "conv2d_2 (Conv2D)            (None, 56, 56, 128)       204928    \n",
            "_________________________________________________________________\n",
            "dropout_1 (Dropout)          (None, 56, 56, 128)       0         \n",
            "_________________________________________________________________\n",
            "batch_normalization_2 (Batch (None, 56, 56, 128)       512       \n",
            "_________________________________________________________________\n",
            "max_pooling2d_2 (MaxPooling2 (None, 28, 28, 128)       0         \n",
            "_________________________________________________________________\n",
            "conv2d_3 (Conv2D)            (None, 28, 28, 128)       147584    \n",
            "_________________________________________________________________\n",
            "dropout_2 (Dropout)          (None, 28, 28, 128)       0         \n",
            "_________________________________________________________________\n",
            "batch_normalization_3 (Batch (None, 28, 28, 128)       512       \n",
            "_________________________________________________________________\n",
            "max_pooling2d_3 (MaxPooling2 (None, 14, 14, 128)       0         \n",
            "_________________________________________________________________\n",
            "conv2d_4 (Conv2D)            (None, 14, 14, 256)       295168    \n",
            "_________________________________________________________________\n",
            "dropout_3 (Dropout)          (None, 14, 14, 256)       0         \n",
            "_________________________________________________________________\n",
            "batch_normalization_4 (Batch (None, 14, 14, 256)       1024      \n",
            "_________________________________________________________________\n",
            "max_pooling2d_4 (MaxPooling2 (None, 7, 7, 256)         0         \n",
            "_________________________________________________________________\n",
            "flatten (Flatten)            (None, 12544)             0         \n",
            "_________________________________________________________________\n",
            "dense (Dense)                (None, 128)               1605760   \n",
            "_________________________________________________________________\n",
            "dropout_4 (Dropout)          (None, 128)               0         \n",
            "_________________________________________________________________\n",
            "dense_1 (Dense)              (None, 512)               66048     \n",
            "_________________________________________________________________\n",
            "dense_2 (Dense)              (None, 5)                 2565      \n",
            "=================================================================\n",
            "Total params: 2,343,877\n",
            "Trainable params: 2,342,661\n",
            "Non-trainable params: 1,216\n",
            "_________________________________________________________________\n"
          ]
        }
      ]
    },
    {
      "cell_type": "code",
      "metadata": {
        "colab": {
          "base_uri": "https://localhost:8080/"
        },
        "id": "7oYxZEFa9ZpN",
        "outputId": "fd94a3eb-6fc1-4dca-c61d-f9f00cbf4aac"
      },
      "source": [
        "trial1_orig_model_history = model.fit(X_train, Y_train, epochs=20, verbose=1, validation_split=0.2, shuffle=True, batch_size = 128, callbacks=[model_save])"
      ],
      "execution_count": 12,
      "outputs": [
        {
          "output_type": "stream",
          "name": "stdout",
          "text": [
            "Epoch 1/20\n",
            "14/14 [==============================] - ETA: 0s - loss: 1.7105 - accuracy: 0.4291\n",
            "Epoch 00001: val_accuracy improved from -inf to 0.32706, saving model to ./temp.h5\n",
            "14/14 [==============================] - 9s 644ms/step - loss: 1.7105 - accuracy: 0.4291 - val_loss: 6.4493 - val_accuracy: 0.3271\n",
            "Epoch 2/20\n",
            "14/14 [==============================] - ETA: 0s - loss: 0.7444 - accuracy: 0.6998\n",
            "Epoch 00002: val_accuracy did not improve from 0.32706\n",
            "14/14 [==============================] - 7s 523ms/step - loss: 0.7444 - accuracy: 0.6998 - val_loss: 10.2608 - val_accuracy: 0.2518\n",
            "Epoch 3/20\n",
            "14/14 [==============================] - ETA: 0s - loss: 0.5245 - accuracy: 0.7993\n",
            "Epoch 00003: val_accuracy did not improve from 0.32706\n",
            "14/14 [==============================] - 7s 521ms/step - loss: 0.5245 - accuracy: 0.7993 - val_loss: 8.1423 - val_accuracy: 0.2612\n",
            "Epoch 4/20\n",
            "14/14 [==============================] - ETA: 0s - loss: 0.3900 - accuracy: 0.8481\n",
            "Epoch 00004: val_accuracy improved from 0.32706 to 0.36000, saving model to ./temp.h5\n",
            "14/14 [==============================] - 7s 531ms/step - loss: 0.3900 - accuracy: 0.8481 - val_loss: 3.2813 - val_accuracy: 0.3600\n",
            "Epoch 5/20\n",
            "14/14 [==============================] - ETA: 0s - loss: 0.2803 - accuracy: 0.8964\n",
            "Epoch 00005: val_accuracy improved from 0.36000 to 0.58118, saving model to ./temp.h5\n",
            "14/14 [==============================] - 7s 531ms/step - loss: 0.2803 - accuracy: 0.8964 - val_loss: 1.3083 - val_accuracy: 0.5812\n",
            "Epoch 6/20\n",
            "14/14 [==============================] - ETA: 0s - loss: 0.2169 - accuracy: 0.9241\n",
            "Epoch 00006: val_accuracy improved from 0.58118 to 0.64706, saving model to ./temp.h5\n",
            "14/14 [==============================] - 7s 532ms/step - loss: 0.2169 - accuracy: 0.9241 - val_loss: 1.1128 - val_accuracy: 0.6471\n",
            "Epoch 7/20\n",
            "14/14 [==============================] - ETA: 0s - loss: 0.1547 - accuracy: 0.9429\n",
            "Epoch 00007: val_accuracy improved from 0.64706 to 0.86353, saving model to ./temp.h5\n",
            "14/14 [==============================] - 7s 531ms/step - loss: 0.1547 - accuracy: 0.9429 - val_loss: 0.3653 - val_accuracy: 0.8635\n",
            "Epoch 8/20\n",
            "14/14 [==============================] - ETA: 0s - loss: 0.1377 - accuracy: 0.9535\n",
            "Epoch 00008: val_accuracy improved from 0.86353 to 0.95529, saving model to ./temp.h5\n",
            "14/14 [==============================] - 7s 530ms/step - loss: 0.1377 - accuracy: 0.9535 - val_loss: 0.1732 - val_accuracy: 0.9553\n",
            "Epoch 9/20\n",
            "14/14 [==============================] - ETA: 0s - loss: 0.1056 - accuracy: 0.9594\n",
            "Epoch 00009: val_accuracy did not improve from 0.95529\n",
            "14/14 [==============================] - 7s 520ms/step - loss: 0.1056 - accuracy: 0.9594 - val_loss: 0.1905 - val_accuracy: 0.9271\n",
            "Epoch 10/20\n",
            "14/14 [==============================] - ETA: 0s - loss: 0.1203 - accuracy: 0.9553\n",
            "Epoch 00010: val_accuracy did not improve from 0.95529\n",
            "14/14 [==============================] - 7s 519ms/step - loss: 0.1203 - accuracy: 0.9553 - val_loss: 0.2257 - val_accuracy: 0.9176\n",
            "Epoch 11/20\n",
            "14/14 [==============================] - ETA: 0s - loss: 0.0848 - accuracy: 0.9641\n",
            "Epoch 00011: val_accuracy did not improve from 0.95529\n",
            "14/14 [==============================] - 7s 519ms/step - loss: 0.0848 - accuracy: 0.9641 - val_loss: 0.1875 - val_accuracy: 0.9341\n",
            "Epoch 12/20\n",
            "14/14 [==============================] - ETA: 0s - loss: 0.0726 - accuracy: 0.9782\n",
            "Epoch 00012: val_accuracy did not improve from 0.95529\n",
            "14/14 [==============================] - 7s 520ms/step - loss: 0.0726 - accuracy: 0.9782 - val_loss: 0.6669 - val_accuracy: 0.7553\n",
            "Epoch 13/20\n",
            "14/14 [==============================] - ETA: 0s - loss: 0.0612 - accuracy: 0.9812\n",
            "Epoch 00013: val_accuracy did not improve from 0.95529\n",
            "14/14 [==============================] - 7s 520ms/step - loss: 0.0612 - accuracy: 0.9812 - val_loss: 0.8530 - val_accuracy: 0.6729\n",
            "Epoch 14/20\n",
            "14/14 [==============================] - ETA: 0s - loss: 0.0517 - accuracy: 0.9823\n",
            "Epoch 00014: val_accuracy did not improve from 0.95529\n",
            "14/14 [==============================] - 7s 519ms/step - loss: 0.0517 - accuracy: 0.9823 - val_loss: 0.4787 - val_accuracy: 0.8047\n",
            "Epoch 15/20\n",
            "14/14 [==============================] - ETA: 0s - loss: 0.0472 - accuracy: 0.9829\n",
            "Epoch 00015: val_accuracy did not improve from 0.95529\n",
            "14/14 [==============================] - 7s 521ms/step - loss: 0.0472 - accuracy: 0.9829 - val_loss: 0.2577 - val_accuracy: 0.9200\n",
            "Epoch 16/20\n",
            "14/14 [==============================] - ETA: 0s - loss: 0.0439 - accuracy: 0.9823\n",
            "Epoch 00016: val_accuracy did not improve from 0.95529\n",
            "14/14 [==============================] - 7s 518ms/step - loss: 0.0439 - accuracy: 0.9823 - val_loss: 0.3080 - val_accuracy: 0.9012\n",
            "Epoch 17/20\n",
            "14/14 [==============================] - ETA: 0s - loss: 0.0357 - accuracy: 0.9900\n",
            "Epoch 00017: val_accuracy did not improve from 0.95529\n",
            "14/14 [==============================] - 7s 522ms/step - loss: 0.0357 - accuracy: 0.9900 - val_loss: 0.2379 - val_accuracy: 0.9176\n",
            "Epoch 18/20\n",
            "14/14 [==============================] - ETA: 0s - loss: 0.0293 - accuracy: 0.9888\n",
            "Epoch 00018: val_accuracy did not improve from 0.95529\n",
            "14/14 [==============================] - 7s 520ms/step - loss: 0.0293 - accuracy: 0.9888 - val_loss: 1.0924 - val_accuracy: 0.7694\n",
            "Epoch 19/20\n",
            "14/14 [==============================] - ETA: 0s - loss: 0.0480 - accuracy: 0.9800\n",
            "Epoch 00019: val_accuracy did not improve from 0.95529\n",
            "14/14 [==============================] - 7s 518ms/step - loss: 0.0480 - accuracy: 0.9800 - val_loss: 0.8942 - val_accuracy: 0.7412\n",
            "Epoch 20/20\n",
            "14/14 [==============================] - ETA: 0s - loss: 0.0495 - accuracy: 0.9829\n",
            "Epoch 00020: val_accuracy did not improve from 0.95529\n",
            "14/14 [==============================] - 7s 520ms/step - loss: 0.0495 - accuracy: 0.9829 - val_loss: 0.3095 - val_accuracy: 0.8824\n"
          ]
        }
      ]
    },
    {
      "cell_type": "code",
      "metadata": {
        "id": "KpYD_FNx9bok",
        "colab": {
          "base_uri": "https://localhost:8080/"
        },
        "outputId": "a27cc6ac-f419-40ad-8fa0-34796651e0d8"
      },
      "source": [
        "model_temp = tensorflow.keras.models.load_model('./temp.h5')\n",
        "model_temp.evaluate(X_test, Y_test)"
      ],
      "execution_count": 13,
      "outputs": [
        {
          "output_type": "stream",
          "name": "stdout",
          "text": [
            "12/12 [==============================] - 1s 64ms/step - loss: 0.2407 - accuracy: 0.9120\n"
          ]
        },
        {
          "output_type": "execute_result",
          "data": {
            "text/plain": [
              "[0.24074600636959076, 0.9120000004768372]"
            ]
          },
          "metadata": {},
          "execution_count": 13
        }
      ]
    },
    {
      "cell_type": "code",
      "metadata": {
        "id": "Smcc4vND-AoS",
        "colab": {
          "base_uri": "https://localhost:8080/"
        },
        "outputId": "4f11498f-d288-48b1-bec0-03f5370cf776"
      },
      "source": [
        "Y_pred = np.argmax(model_temp.predict(X_test), axis=1)\n",
        "print(Y_pred)"
      ],
      "execution_count": 14,
      "outputs": [
        {
          "output_type": "stream",
          "name": "stdout",
          "text": [
            "[4 1 2 0 0 2 1 4 0 3 2 0 0 3 0 1 1 4 4 2 4 2 4 3 2 1 3 1 4 2 2 0 3 1 2 4 2\n",
            " 2 4 1 1 2 3 0 0 1 2 1 3 1 0 1 3 3 4 3 1 1 0 1 2 4 0 1 0 1 4 3 0 3 0 2 0 1\n",
            " 2 4 0 0 4 4 2 0 3 0 2 0 0 1 3 3 2 3 3 3 3 2 2 0 4 3 4 1 3 0 3 2 2 0 2 2 0\n",
            " 2 0 0 0 3 2 2 4 1 0 2 3 0 4 3 0 1 3 4 4 4 0 1 2 3 4 0 0 4 3 3 4 2 2 3 1 1\n",
            " 3 0 4 3 1 1 0 2 4 1 1 0 4 0 0 3 2 0 1 2 1 4 0 4 3 4 0 0 3 1 3 0 0 1 3 0 2\n",
            " 2 1 3 3 4 2 3 3 3 0 1 3 3 2 1 1 2 2 1 1 1 1 1 4 4 1 1 2 1 0 3 0 3 3 2 0 4\n",
            " 4 3 3 4 3 0 3 3 4 4 1 0 2 1 1 2 2 1 1 2 0 2 3 1 0 0 1 4 3 0 3 1 4 1 2 0 0\n",
            " 2 2 4 2 3 2 0 2 0 3 0 0 2 0 3 3 2 4 3 0 2 1 0 1 3 3 4 2 0 3 1 1 1 1 4 2 4\n",
            " 3 3 2 2 1 4 2 1 2 0 4 1 1 4 2 3 1 1 2 4 3 0 2 1 3 3 1 3 0 1 1 2 3 3 2 3 3\n",
            " 2 4 4 2 2 3 3 1 2 2 0 3 4 3 0 1 1 1 0 0 4 2 3 2 0 2 4 2 1 4 0 0 1 1 2 0 2\n",
            " 4 2 4 3 4]\n"
          ]
        }
      ]
    },
    {
      "cell_type": "code",
      "metadata": {
        "id": "JmWqTk5K-CIH",
        "colab": {
          "base_uri": "https://localhost:8080/"
        },
        "outputId": "53b49f12-5d23-4185-f9b9-9e7faa3874a8"
      },
      "source": [
        "#Balanced Multiclass Accuracy code\n",
        "from sklearn.metrics import balanced_accuracy_score\n",
        "balanced_accuracy_score(np.argmax(Y_test, axis = 1), Y_pred)"
      ],
      "execution_count": 15,
      "outputs": [
        {
          "output_type": "execute_result",
          "data": {
            "text/plain": [
              "0.9111282303294453"
            ]
          },
          "metadata": {},
          "execution_count": 15
        }
      ]
    },
    {
      "cell_type": "code",
      "metadata": {
        "id": "_Y5FZlLY-Dal",
        "colab": {
          "base_uri": "https://localhost:8080/"
        },
        "outputId": "c91d8c31-31ff-4be9-aa45-332ff7ae575d"
      },
      "source": [
        "#Classification Report Code\n",
        "from sklearn.metrics import classification_report, confusion_matrix\n",
        "import seaborn as sns\n",
        "\n",
        "label_list = []\n",
        "cm_orig = confusion_matrix(np.argmax(Y_test, axis = 1),Y_pred)\n",
        "print(cm_orig)\n",
        "cr_orig = classification_report(np.argmax(Y_test, axis = 1), Y_pred)\n",
        "print(\"Classification Report: \")\n",
        "print(cr_orig)"
      ],
      "execution_count": 16,
      "outputs": [
        {
          "output_type": "stream",
          "name": "stdout",
          "text": [
            "[[75  1  0  0  0]\n",
            " [ 2 70  0  0  0]\n",
            " [ 0  6 74  1  1]\n",
            " [ 1  0  4 67  2]\n",
            " [ 0  1  2 12 56]]\n",
            "Classification Report: \n",
            "              precision    recall  f1-score   support\n",
            "\n",
            "           0       0.96      0.99      0.97        76\n",
            "           1       0.90      0.97      0.93        72\n",
            "           2       0.93      0.90      0.91        82\n",
            "           3       0.84      0.91      0.87        74\n",
            "           4       0.95      0.79      0.86        71\n",
            "\n",
            "    accuracy                           0.91       375\n",
            "   macro avg       0.91      0.91      0.91       375\n",
            "weighted avg       0.91      0.91      0.91       375\n",
            "\n"
          ]
        }
      ]
    },
    {
      "cell_type": "code",
      "metadata": {
        "id": "2l4Y3k5SvKaI",
        "colab": {
          "base_uri": "https://localhost:8080/",
          "height": 282
        },
        "outputId": "e28b00c9-f7cf-4d3c-ef93-fa28662ceea1"
      },
      "source": [
        "import seaborn as sns\n",
        "sns.heatmap(cm_orig, annot = True)"
      ],
      "execution_count": 17,
      "outputs": [
        {
          "output_type": "execute_result",
          "data": {
            "text/plain": [
              "<matplotlib.axes._subplots.AxesSubplot at 0x7f521fa220d0>"
            ]
          },
          "metadata": {},
          "execution_count": 17
        },
        {
          "output_type": "display_data",
          "data": {
            "image/png": "[encoded data removed]",
            "text/plain": [
              "<Figure size 432x288 with 2 Axes>"
            ]
          },
          "metadata": {
            "needs_background": "light"
          }
        }
      ]
    },
    {
      "cell_type": "code",
      "metadata": {
        "id": "-o9tSjBT-Eu9",
        "colab": {
          "base_uri": "https://localhost:8080/",
          "height": 296
        },
        "outputId": "fc8022e4-ad6b-4c25-8264-6fc2159b2f1e"
      },
      "source": [
        "#Training Loss Plot Code\n",
        "import matplotlib.pyplot as plt\n",
        "f,ax=plt.subplots(1,1) \n",
        "\n",
        "#Loss\n",
        "ax.plot(trial1_orig_model_history.history['loss'],color='red',label='Training Loss')\n",
        "ax.plot(trial1_orig_model_history.history['val_loss'],color='blue',label='Validation Loss')\n",
        "\n",
        "plt.legend()\n",
        "plt.xlabel(\"Epoch No.\")\n",
        "plt.ylabel(\"Loss\")"
      ],
      "execution_count": 18,
      "outputs": [
        {
          "output_type": "execute_result",
          "data": {
            "text/plain": [
              "Text(0, 0.5, 'Loss')"
            ]
          },
          "metadata": {},
          "execution_count": 18
        },
        {
          "output_type": "display_data",
          "data": {
            "image/png": "[encoded data removed]",
            "text/plain": [
              "<Figure size 432x288 with 1 Axes>"
            ]
          },
          "metadata": {
            "needs_background": "light"
          }
        }
      ]
    },
    {
      "cell_type": "code",
      "metadata": {
        "id": "4Y1Ag7DT-GOx",
        "colab": {
          "base_uri": "https://localhost:8080/",
          "height": 296
        },
        "outputId": "37ee592f-af94-4e48-a9cf-fc5a9adb670d"
      },
      "source": [
        "#Training Accuracy Plot Code\n",
        "f1,ax1=plt.subplots(1,1) \n",
        "\n",
        "#Loss\n",
        "ax1.plot(trial1_orig_model_history.history['accuracy'],color='0.15',label='Training Accuracy')\n",
        "ax1.plot(trial1_orig_model_history.history['val_accuracy'],color='0.15',label='Validation Accuracy')\n",
        "\n",
        "plt.legend()\n",
        "plt.xlabel(\"Epoch No.\")\n",
        "plt.ylabel(\"Accuracy\")"
      ],
      "execution_count": 19,
      "outputs": [
        {
          "output_type": "execute_result",
          "data": {
            "text/plain": [
              "Text(0, 0.5, 'Accuracy')"
            ]
          },
          "metadata": {},
          "execution_count": 19
        },
        {
          "output_type": "display_data",
          "data": {
            "image/png": "[encoded data removed]",
            "text/plain": [
              "<Figure size 432x288 with 1 Axes>"
            ]
          },
          "metadata": {
            "needs_background": "light"
          }
        }
      ]
    },
    {
      "cell_type": "code",
      "metadata": {
        "id": "N12rW8Q1-HnF",
        "colab": {
          "base_uri": "https://localhost:8080/"
        },
        "outputId": "0ec95e3f-d6af-48c6-f3e8-971e84358f37"
      },
      "source": [
        "! pip install scikit-plot"
      ],
      "execution_count": 20,
      "outputs": [
        {
          "output_type": "stream",
          "name": "stdout",
          "text": [
            "Collecting scikit-plot\n",
            "  Downloading scikit_plot-0.3.7-py3-none-any.whl (33 kB)\n",
            "Requirement already satisfied: matplotlib>=1.4.0 in /usr/local/lib/python3.7/dist-packages (from scikit-plot) (3.2.2)\n",
            "Requirement already satisfied: joblib>=0.10 in /usr/local/lib/python3.7/dist-packages (from scikit-plot) (1.0.1)\n",
            "Requirement already satisfied: scipy>=0.9 in /usr/local/lib/python3.7/dist-packages (from scikit-plot) (1.4.1)\n",
            "Requirement already satisfied: scikit-learn>=0.18 in /usr/local/lib/python3.7/dist-packages (from scikit-plot) (0.22.2.post1)\n",
            "Requirement already satisfied: pyparsing!=2.0.4,!=2.1.2,!=2.1.6,>=2.0.1 in /usr/local/lib/python3.7/dist-packages (from matplotlib>=1.4.0->scikit-plot) (2.4.7)\n",
            "Requirement already satisfied: cycler>=0.10 in /usr/local/lib/python3.7/dist-packages (from matplotlib>=1.4.0->scikit-plot) (0.10.0)\n",
            "Requirement already satisfied: numpy>=1.11 in /usr/local/lib/python3.7/dist-packages (from matplotlib>=1.4.0->scikit-plot) (1.18.5)\n",
            "Requirement already satisfied: kiwisolver>=1.0.1 in /usr/local/lib/python3.7/dist-packages (from matplotlib>=1.4.0->scikit-plot) (1.3.2)\n",
            "Requirement already satisfied: python-dateutil>=2.1 in /usr/local/lib/python3.7/dist-packages (from matplotlib>=1.4.0->scikit-plot) (2.8.2)\n",
            "Requirement already satisfied: six in /usr/local/lib/python3.7/dist-packages (from cycler>=0.10->matplotlib>=1.4.0->scikit-plot) (1.15.0)\n",
            "Installing collected packages: scikit-plot\n",
            "Successfully installed scikit-plot-0.3.7\n"
          ]
        }
      ]
    },
    {
      "cell_type": "code",
      "metadata": {
        "id": "cBO7liALy5gO"
      },
      "source": [
        "import scikitplot as skplt\n",
        "\n",
        "Y_test_arg = np.argmax(Y_test, 1)\n",
        "\n",
        "Y_test_li = []\n",
        "Y_pred_li = []\n",
        "\n",
        "for i in range(len(Y_test_arg)):\n",
        "  if Y_test_arg[i] == 0:\n",
        "    Y_test_li.append('Gesture 1')\n",
        "  elif Y_test_arg[i] == 1:\n",
        "    Y_test_li.append('Gesture 2')\n",
        "  elif Y_test_arg[i] == 2:\n",
        "    Y_test_li.append('Gesture 3')\n",
        "  elif Y_test_arg[i] == 3:\n",
        "    Y_test_li.append('Gesture 4')\n",
        "  else:\n",
        "    Y_test_li.append('Gesture 5')\n",
        "\n",
        "Y_pred_arg = Y_pred.copy()\n",
        "for i in range(len(Y_pred_arg)):\n",
        "  if Y_pred_arg[i] == 0:\n",
        "    Y_pred_li.append('Gesture 1')\n",
        "  elif Y_pred_arg[i] == 1:\n",
        "    Y_pred_li.append('Gesture 2')\n",
        "  elif Y_pred_arg[i] == 2:\n",
        "    Y_pred_li.append('Gesture 3')\n",
        "  elif Y_pred_arg[i] == 3:\n",
        "    Y_pred_li.append('Gesture 4')\n",
        "  else:\n",
        "    Y_pred_li.append('Gesture 5')\n",
        "    "
      ],
      "execution_count": 21,
      "outputs": []
    },
    {
      "cell_type": "code",
      "metadata": {
        "colab": {
          "base_uri": "https://localhost:8080/",
          "height": 388
        },
        "id": "4UoIwiLcy8HK",
        "outputId": "75fb1e58-2c34-410b-c93d-c07ab0ea095f"
      },
      "source": [
        "plt.figure()\n",
        "skplt.metrics.plot_confusion_matrix(Y_test_li, Y_pred_li, normalize=True, title = 'Confusion Matrix (Custom CNN model)', figsize = (6, 6), x_tick_rotation = 15, \n",
        "                                    title_fontsize = 'medium', text_fontsize = 'medium')\n",
        "# plt.show()\n",
        "plt.savefig('conf_matrix3.jpeg', dpi = 600, bbox_inches='tight', transparent = False)\n",
        "plt.show()"
      ],
      "execution_count": 22,
      "outputs": [
        {
          "output_type": "display_data",
          "data": {
            "text/plain": [
              "<Figure size 432x288 with 0 Axes>"
            ]
          },
          "metadata": {}
        },
        {
          "output_type": "display_data",
          "data": {
            "image/png": "[encoded data removed]",
            "text/plain": [
              "<Figure size 432x432 with 2 Axes>"
            ]
          },
          "metadata": {
            "needs_background": "light"
          }
        }
      ]
    },
    {
      "cell_type": "code",
      "metadata": {
        "colab": {
          "base_uri": "https://localhost:8080/"
        },
        "id": "FHNg4xVJzIVq",
        "outputId": "cf0f6750-f234-4c20-d752-93be8b533ada"
      },
      "source": [
        "from sklearn.metrics import precision_score, recall_score, f1_score, precision_recall_fscore_support, accuracy_score, roc_auc_score\n",
        "\n",
        "print(precision_recall_fscore_support(np.argmax(Y_test, axis = 1), Y_pred))\n",
        "\n",
        "print(precision_score(np.argmax(Y_test, axis = 1), Y_pred, average = None))\n",
        "\n",
        "print(recall_score(np.argmax(Y_test, axis = 1), Y_pred, average = None))\n",
        "\n",
        "print(f1_score(np.argmax(Y_test, axis = 1), Y_pred, average = None))\n",
        "\n",
        "# print(roc_auc_score(np.argmax(Y_test, axis = 1), Y_pred))\n",
        "\n",
        "print(accuracy_score(np.argmax(Y_test, axis = 1), Y_pred))"
      ],
      "execution_count": 23,
      "outputs": [
        {
          "output_type": "stream",
          "name": "stdout",
          "text": [
            "(array([0.96153846, 0.8974359 , 0.925     , 0.8375    , 0.94915254]), array([0.98684211, 0.97222222, 0.90243902, 0.90540541, 0.78873239]), array([0.97402597, 0.93333333, 0.91358025, 0.87012987, 0.86153846]), array([76, 72, 82, 74, 71]))\n",
            "[0.96153846 0.8974359  0.925      0.8375     0.94915254]\n",
            "[0.98684211 0.97222222 0.90243902 0.90540541 0.78873239]\n",
            "[0.97402597 0.93333333 0.91358025 0.87012987 0.86153846]\n",
            "0.912\n"
          ]
        }
      ]
    },
    {
      "cell_type": "code",
      "metadata": {
        "id": "PRh-JS84zOay"
      },
      "source": [
        "Y_pred1 = model_temp.predict(X_test)"
      ],
      "execution_count": 24,
      "outputs": []
    },
    {
      "cell_type": "code",
      "metadata": {
        "colab": {
          "base_uri": "https://localhost:8080/",
          "height": 404
        },
        "id": "HG9bgmULzQQx",
        "outputId": "aa8d3fa3-256d-4d22-a972-b851ffb71f5e"
      },
      "source": [
        "skplt.metrics.plot_roc(Y_test_arg, Y_pred1, figsize = (8, 6))\n",
        "# plt.title('ROC Curve (Model initialized with ImageNet weights)')\n",
        "plt.savefig('roc_auc3.jpeg', dpi = 600, bbox_inches='tight', transparent = False)\n",
        "plt.show()"
      ],
      "execution_count": 25,
      "outputs": [
        {
          "output_type": "display_data",
          "data": {
            "image/png": "[encoded data removed]",
            "text/plain": [
              "<Figure size 576x432 with 1 Axes>"
            ]
          },
          "metadata": {
            "needs_background": "light"
          }
        }
      ]
    },
    {
      "cell_type": "code",
      "metadata": {
        "id": "BmBlHmdwzSqw"
      },
      "source": [
        ""
      ],
      "execution_count": 25,
      "outputs": []
    }
  ]
}